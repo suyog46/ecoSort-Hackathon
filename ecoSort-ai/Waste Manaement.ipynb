{
 "cells": [
  {
   "cell_type": "code",
   "execution_count": 4,
   "id": "6b92f2ea-d2c6-46fe-b3aa-a7aed503e953",
   "metadata": {},
   "outputs": [
    {
     "name": "stdout",
     "output_type": "stream",
     "text": [
      "Requirement already satisfied: ultralytics in /home/kuber/myenv/lib/python3.12/site-packages (8.3.59)\n",
      "Requirement already satisfied: numpy>=1.23.0 in /home/kuber/myenv/lib/python3.12/site-packages (from ultralytics) (2.0.2)\n",
      "Requirement already satisfied: matplotlib>=3.3.0 in /home/kuber/myenv/lib/python3.12/site-packages (from ultralytics) (3.10.0)\n",
      "Requirement already satisfied: opencv-python>=4.6.0 in /home/kuber/myenv/lib/python3.12/site-packages (from ultralytics) (4.10.0.84)\n",
      "Requirement already satisfied: pillow>=7.1.2 in /home/kuber/myenv/lib/python3.12/site-packages (from ultralytics) (11.1.0)\n",
      "Requirement already satisfied: pyyaml>=5.3.1 in /home/kuber/myenv/lib/python3.12/site-packages (from ultralytics) (6.0.2)\n",
      "Requirement already satisfied: requests>=2.23.0 in /home/kuber/myenv/lib/python3.12/site-packages (from ultralytics) (2.32.3)\n",
      "Requirement already satisfied: scipy>=1.4.1 in /home/kuber/myenv/lib/python3.12/site-packages (from ultralytics) (1.14.1)\n",
      "Requirement already satisfied: torch>=1.8.0 in /home/kuber/myenv/lib/python3.12/site-packages (from ultralytics) (2.5.1)\n",
      "Requirement already satisfied: torchvision>=0.9.0 in /home/kuber/myenv/lib/python3.12/site-packages (from ultralytics) (0.20.1)\n",
      "Requirement already satisfied: tqdm>=4.64.0 in /home/kuber/myenv/lib/python3.12/site-packages (from ultralytics) (4.67.1)\n",
      "Requirement already satisfied: psutil in /home/kuber/myenv/lib/python3.12/site-packages (from ultralytics) (6.0.0)\n",
      "Requirement already satisfied: py-cpuinfo in /home/kuber/myenv/lib/python3.12/site-packages (from ultralytics) (9.0.0)\n",
      "Requirement already satisfied: pandas>=1.1.4 in /home/kuber/myenv/lib/python3.12/site-packages (from ultralytics) (2.2.3)\n",
      "Requirement already satisfied: seaborn>=0.11.0 in /home/kuber/myenv/lib/python3.12/site-packages (from ultralytics) (0.13.2)\n",
      "Requirement already satisfied: ultralytics-thop>=2.0.0 in /home/kuber/myenv/lib/python3.12/site-packages (from ultralytics) (2.0.13)\n",
      "Requirement already satisfied: contourpy>=1.0.1 in /home/kuber/myenv/lib/python3.12/site-packages (from matplotlib>=3.3.0->ultralytics) (1.3.1)\n",
      "Requirement already satisfied: cycler>=0.10 in /home/kuber/myenv/lib/python3.12/site-packages (from matplotlib>=3.3.0->ultralytics) (0.12.1)\n",
      "Requirement already satisfied: fonttools>=4.22.0 in /home/kuber/myenv/lib/python3.12/site-packages (from matplotlib>=3.3.0->ultralytics) (4.55.3)\n",
      "Requirement already satisfied: kiwisolver>=1.3.1 in /home/kuber/myenv/lib/python3.12/site-packages (from matplotlib>=3.3.0->ultralytics) (1.4.8)\n",
      "Requirement already satisfied: packaging>=20.0 in /home/kuber/myenv/lib/python3.12/site-packages (from matplotlib>=3.3.0->ultralytics) (24.1)\n",
      "Requirement already satisfied: pyparsing>=2.3.1 in /home/kuber/myenv/lib/python3.12/site-packages (from matplotlib>=3.3.0->ultralytics) (3.2.1)\n",
      "Requirement already satisfied: python-dateutil>=2.7 in /home/kuber/myenv/lib/python3.12/site-packages (from matplotlib>=3.3.0->ultralytics) (2.9.0.post0)\n",
      "Requirement already satisfied: pytz>=2020.1 in /home/kuber/myenv/lib/python3.12/site-packages (from pandas>=1.1.4->ultralytics) (2024.2)\n",
      "Requirement already satisfied: tzdata>=2022.7 in /home/kuber/myenv/lib/python3.12/site-packages (from pandas>=1.1.4->ultralytics) (2024.2)\n",
      "Requirement already satisfied: charset-normalizer<4,>=2 in /home/kuber/myenv/lib/python3.12/site-packages (from requests>=2.23.0->ultralytics) (3.3.2)\n",
      "Requirement already satisfied: idna<4,>=2.5 in /home/kuber/myenv/lib/python3.12/site-packages (from requests>=2.23.0->ultralytics) (3.10)\n",
      "Requirement already satisfied: urllib3<3,>=1.21.1 in /home/kuber/myenv/lib/python3.12/site-packages (from requests>=2.23.0->ultralytics) (2.2.3)\n",
      "Requirement already satisfied: certifi>=2017.4.17 in /home/kuber/myenv/lib/python3.12/site-packages (from requests>=2.23.0->ultralytics) (2024.8.30)\n",
      "Requirement already satisfied: filelock in /home/kuber/myenv/lib/python3.12/site-packages (from torch>=1.8.0->ultralytics) (3.16.1)\n",
      "Requirement already satisfied: typing-extensions>=4.8.0 in /home/kuber/myenv/lib/python3.12/site-packages (from torch>=1.8.0->ultralytics) (4.12.2)\n",
      "Requirement already satisfied: networkx in /home/kuber/myenv/lib/python3.12/site-packages (from torch>=1.8.0->ultralytics) (3.4.2)\n",
      "Requirement already satisfied: jinja2 in /home/kuber/myenv/lib/python3.12/site-packages (from torch>=1.8.0->ultralytics) (3.1.4)\n",
      "Requirement already satisfied: fsspec in /home/kuber/myenv/lib/python3.12/site-packages (from torch>=1.8.0->ultralytics) (2024.12.0)\n",
      "Requirement already satisfied: nvidia-cuda-nvrtc-cu12==12.4.127 in /home/kuber/myenv/lib/python3.12/site-packages (from torch>=1.8.0->ultralytics) (12.4.127)\n",
      "Requirement already satisfied: nvidia-cuda-runtime-cu12==12.4.127 in /home/kuber/myenv/lib/python3.12/site-packages (from torch>=1.8.0->ultralytics) (12.4.127)\n",
      "Requirement already satisfied: nvidia-cuda-cupti-cu12==12.4.127 in /home/kuber/myenv/lib/python3.12/site-packages (from torch>=1.8.0->ultralytics) (12.4.127)\n",
      "Requirement already satisfied: nvidia-cudnn-cu12==9.1.0.70 in /home/kuber/myenv/lib/python3.12/site-packages (from torch>=1.8.0->ultralytics) (9.1.0.70)\n",
      "Requirement already satisfied: nvidia-cublas-cu12==12.4.5.8 in /home/kuber/myenv/lib/python3.12/site-packages (from torch>=1.8.0->ultralytics) (12.4.5.8)\n",
      "Requirement already satisfied: nvidia-cufft-cu12==11.2.1.3 in /home/kuber/myenv/lib/python3.12/site-packages (from torch>=1.8.0->ultralytics) (11.2.1.3)\n",
      "Requirement already satisfied: nvidia-curand-cu12==10.3.5.147 in /home/kuber/myenv/lib/python3.12/site-packages (from torch>=1.8.0->ultralytics) (10.3.5.147)\n",
      "Requirement already satisfied: nvidia-cusolver-cu12==11.6.1.9 in /home/kuber/myenv/lib/python3.12/site-packages (from torch>=1.8.0->ultralytics) (11.6.1.9)\n",
      "Requirement already satisfied: nvidia-cusparse-cu12==12.3.1.170 in /home/kuber/myenv/lib/python3.12/site-packages (from torch>=1.8.0->ultralytics) (12.3.1.170)\n",
      "Requirement already satisfied: nvidia-nccl-cu12==2.21.5 in /home/kuber/myenv/lib/python3.12/site-packages (from torch>=1.8.0->ultralytics) (2.21.5)\n",
      "Requirement already satisfied: nvidia-nvtx-cu12==12.4.127 in /home/kuber/myenv/lib/python3.12/site-packages (from torch>=1.8.0->ultralytics) (12.4.127)\n",
      "Requirement already satisfied: nvidia-nvjitlink-cu12==12.4.127 in /home/kuber/myenv/lib/python3.12/site-packages (from torch>=1.8.0->ultralytics) (12.4.127)\n",
      "Requirement already satisfied: triton==3.1.0 in /home/kuber/myenv/lib/python3.12/site-packages (from torch>=1.8.0->ultralytics) (3.1.0)\n",
      "Requirement already satisfied: setuptools in /home/kuber/myenv/lib/python3.12/site-packages (from torch>=1.8.0->ultralytics) (75.1.0)\n",
      "Requirement already satisfied: sympy==1.13.1 in /home/kuber/myenv/lib/python3.12/site-packages (from torch>=1.8.0->ultralytics) (1.13.1)\n",
      "Requirement already satisfied: mpmath<1.4,>=1.1.0 in /home/kuber/myenv/lib/python3.12/site-packages (from sympy==1.13.1->torch>=1.8.0->ultralytics) (1.3.0)\n",
      "Requirement already satisfied: six>=1.5 in /home/kuber/myenv/lib/python3.12/site-packages (from python-dateutil>=2.7->matplotlib>=3.3.0->ultralytics) (1.16.0)\n",
      "Requirement already satisfied: MarkupSafe>=2.0 in /home/kuber/myenv/lib/python3.12/site-packages (from jinja2->torch>=1.8.0->ultralytics) (2.1.5)\n"
     ]
    }
   ],
   "source": [
    "from ultralytics import YOLO\n",
    "!pip install ultralytics"
   ]
  },
  {
   "cell_type": "code",
   "execution_count": 2,
   "id": "8127ffa7-c8f5-4e95-9d1c-4d9cbcb4e9a1",
   "metadata": {},
   "outputs": [],
   "source": [
    "model = YOLO(\"yolo11n-cls.pt\")  # load a pretrained model (recommended for training)"
   ]
  },
  {
   "cell_type": "code",
   "execution_count": 3,
   "id": "e87cc746-40c3-4a17-b42f-94fdd9d3838d",
   "metadata": {},
   "outputs": [
    {
     "name": "stdout",
     "output_type": "stream",
     "text": [
      "Ultralytics 8.3.59 🚀 Python-3.12.3 torch-2.5.1+cu124 CUDA:0 (NVIDIA GeForce RTX 3060 Laptop GPU, 5931MiB)\n",
      "\u001b[34m\u001b[1mengine/trainer: \u001b[0mtask=classify, mode=train, model=yolo11n-cls.pt, data=/home/kuber/Desktop/Kuber/AI/Codes/Waste_Classifier/Dataset_2, epochs=20, time=None, patience=100, batch=16, imgsz=64, save=True, save_period=-1, cache=False, device=None, workers=8, project=None, name=train6, exist_ok=False, pretrained=True, optimizer=auto, verbose=True, seed=0, deterministic=True, single_cls=False, rect=False, cos_lr=False, close_mosaic=10, resume=False, amp=True, fraction=1.0, profile=False, freeze=None, multi_scale=False, overlap_mask=True, mask_ratio=4, dropout=0.0, val=True, split=val, save_json=False, save_hybrid=False, conf=None, iou=0.7, max_det=300, half=False, dnn=False, plots=True, source=None, vid_stride=1, stream_buffer=False, visualize=False, augment=False, agnostic_nms=False, classes=None, retina_masks=False, embed=None, show=False, save_frames=False, save_txt=False, save_conf=False, save_crop=False, show_labels=True, show_conf=True, show_boxes=True, line_width=None, format=torchscript, keras=False, optimize=False, int8=False, dynamic=False, simplify=True, opset=None, workspace=None, nms=False, lr0=0.01, lrf=0.01, momentum=0.937, weight_decay=0.0005, warmup_epochs=3.0, warmup_momentum=0.8, warmup_bias_lr=0.1, box=7.5, cls=0.5, dfl=1.5, pose=12.0, kobj=1.0, nbs=64, hsv_h=0.015, hsv_s=0.7, hsv_v=0.4, degrees=0.0, translate=0.1, scale=0.5, shear=0.0, perspective=0.0, flipud=0.0, fliplr=0.5, bgr=0.0, mosaic=1.0, mixup=0.0, copy_paste=0.0, copy_paste_mode=flip, auto_augment=randaugment, erasing=0.4, crop_fraction=1.0, cfg=None, tracker=botsort.yaml, save_dir=runs/classify/train6\n",
      "\u001b[34m\u001b[1mtrain:\u001b[0m /home/kuber/Desktop/Kuber/AI/Codes/Waste_Classifier/Dataset_2/train... found 4375 images in 2 classes ✅ \n",
      "\u001b[34m\u001b[1mval:\u001b[0m /home/kuber/Desktop/Kuber/AI/Codes/Waste_Classifier/Dataset_2/validation... found 1201 images in 2 classes ✅ \n",
      "\u001b[34m\u001b[1mtest:\u001b[0m None...\n"
     ]
    },
    {
     "name": "stderr",
     "output_type": "stream",
     "text": [
      "WARNING: All log messages before absl::InitializeLog() is called are written to STDERR\n",
      "E0000 00:00:1736612843.281191   89984 cuda_dnn.cc:8310] Unable to register cuDNN factory: Attempting to register factory for plugin cuDNN when one has already been registered\n",
      "E0000 00:00:1736612843.284930   89984 cuda_blas.cc:1418] Unable to register cuBLAS factory: Attempting to register factory for plugin cuBLAS when one has already been registered\n"
     ]
    },
    {
     "name": "stdout",
     "output_type": "stream",
     "text": [
      "Overriding model.yaml nc=80 with nc=2\n",
      "\n",
      "                   from  n    params  module                                       arguments                     \n",
      "  0                  -1  1       464  ultralytics.nn.modules.conv.Conv             [3, 16, 3, 2]                 \n",
      "  1                  -1  1      4672  ultralytics.nn.modules.conv.Conv             [16, 32, 3, 2]                \n",
      "  2                  -1  1      6640  ultralytics.nn.modules.block.C3k2            [32, 64, 1, False, 0.25]      \n",
      "  3                  -1  1     36992  ultralytics.nn.modules.conv.Conv             [64, 64, 3, 2]                \n",
      "  4                  -1  1     26080  ultralytics.nn.modules.block.C3k2            [64, 128, 1, False, 0.25]     \n",
      "  5                  -1  1    147712  ultralytics.nn.modules.conv.Conv             [128, 128, 3, 2]              \n",
      "  6                  -1  1     87040  ultralytics.nn.modules.block.C3k2            [128, 128, 1, True]           \n",
      "  7                  -1  1    295424  ultralytics.nn.modules.conv.Conv             [128, 256, 3, 2]              \n",
      "  8                  -1  1    346112  ultralytics.nn.modules.block.C3k2            [256, 256, 1, True]           \n",
      "  9                  -1  1    249728  ultralytics.nn.modules.block.C2PSA           [256, 256, 1]                 \n",
      " 10                  -1  1    332802  ultralytics.nn.modules.head.Classify         [256, 2]                      \n",
      "YOLO11n-cls summary: 151 layers, 1,533,666 parameters, 1,533,666 gradients, 3.3 GFLOPs\n",
      "Transferred 234/236 items from pretrained weights\n",
      "\u001b[34m\u001b[1mTensorBoard: \u001b[0mStart with 'tensorboard --logdir runs/classify/train6', view at http://localhost:6006/\n",
      "\u001b[34m\u001b[1mAMP: \u001b[0mrunning Automatic Mixed Precision (AMP) checks...\n",
      "\u001b[34m\u001b[1mAMP: \u001b[0mchecks passed ✅\n"
     ]
    },
    {
     "name": "stderr",
     "output_type": "stream",
     "text": [
      "\u001b[34m\u001b[1mtrain: \u001b[0mScanning /home/kuber/Desktop/Kuber/AI/Codes/Waste_Classifier/Dataset_2/tr\u001b[0m"
     ]
    },
    {
     "name": "stdout",
     "output_type": "stream",
     "text": [
      "\u001b[34m\u001b[1mtrain: \u001b[0mWARNING ⚠️ /home/kuber/Desktop/Kuber/AI/Codes/Waste_Classifier/Dataset_2/train/biodegradable/orange8.jpg: ignoring corrupt image/label: cannot identify image file '/home/kuber/Desktop/Kuber/AI/Codes/Waste_Classifier/Dataset_2/train/biodegradable/orange8.jpg'\n",
      "\u001b[34m\u001b[1mtrain: \u001b[0mNew cache created: /home/kuber/Desktop/Kuber/AI/Codes/Waste_Classifier/Dataset_2/train.cache\n"
     ]
    },
    {
     "name": "stderr",
     "output_type": "stream",
     "text": [
      "\n",
      "\u001b[34m\u001b[1mval: \u001b[0mScanning /home/kuber/Desktop/Kuber/AI/Codes/Waste_Classifier/Dataset_2/vali\u001b[0m"
     ]
    },
    {
     "name": "stdout",
     "output_type": "stream",
     "text": [
      "\u001b[34m\u001b[1mval: \u001b[0mNew cache created: /home/kuber/Desktop/Kuber/AI/Codes/Waste_Classifier/Dataset_2/validation.cache\n"
     ]
    },
    {
     "name": "stderr",
     "output_type": "stream",
     "text": [
      "\n"
     ]
    },
    {
     "name": "stdout",
     "output_type": "stream",
     "text": [
      "\u001b[34m\u001b[1moptimizer:\u001b[0m 'optimizer=auto' found, ignoring 'lr0=0.01' and 'momentum=0.937' and determining best 'optimizer', 'lr0' and 'momentum' automatically... \n",
      "\u001b[34m\u001b[1moptimizer:\u001b[0m AdamW(lr=0.000714, momentum=0.9) with parameter groups 39 weight(decay=0.0), 40 weight(decay=0.0005), 40 bias(decay=0.0)\n",
      "\u001b[34m\u001b[1mTensorBoard: \u001b[0mmodel graph visualization added ✅\n",
      "Image sizes 64 train, 64 val\n",
      "Using 8 dataloader workers\n",
      "Logging results to \u001b[1mruns/classify/train6\u001b[0m\n",
      "Starting training for 20 epochs...\n",
      "\n",
      "      Epoch    GPU_mem       loss  Instances       Size\n"
     ]
    },
    {
     "name": "stderr",
     "output_type": "stream",
     "text": [
      "       1/20     0.153G     0.4963          6         64: 100%|██████████| 274/27\n",
      "               classes   top1_acc   top5_acc: 100%|██████████| 38/38 [00:00<00:0"
     ]
    },
    {
     "name": "stdout",
     "output_type": "stream",
     "text": [
      "                   all      0.763          1\n"
     ]
    },
    {
     "name": "stderr",
     "output_type": "stream",
     "text": [
      "\n"
     ]
    },
    {
     "name": "stdout",
     "output_type": "stream",
     "text": [
      "\n",
      "      Epoch    GPU_mem       loss  Instances       Size\n"
     ]
    },
    {
     "name": "stderr",
     "output_type": "stream",
     "text": [
      "       2/20     0.124G     0.3361          6         64: 100%|██████████| 274/27\n",
      "               classes   top1_acc   top5_acc: 100%|██████████| 38/38 [00:00<00:0"
     ]
    },
    {
     "name": "stdout",
     "output_type": "stream",
     "text": [
      "                   all      0.787          1\n"
     ]
    },
    {
     "name": "stderr",
     "output_type": "stream",
     "text": [
      "\n"
     ]
    },
    {
     "name": "stdout",
     "output_type": "stream",
     "text": [
      "\n",
      "      Epoch    GPU_mem       loss  Instances       Size\n"
     ]
    },
    {
     "name": "stderr",
     "output_type": "stream",
     "text": [
      "       3/20     0.124G     0.3374          6         64: 100%|██████████| 274/27\n",
      "               classes   top1_acc   top5_acc: 100%|██████████| 38/38 [00:00<00:0"
     ]
    },
    {
     "name": "stdout",
     "output_type": "stream",
     "text": [
      "                   all      0.808          1\n"
     ]
    },
    {
     "name": "stderr",
     "output_type": "stream",
     "text": [
      "\n"
     ]
    },
    {
     "name": "stdout",
     "output_type": "stream",
     "text": [
      "\n",
      "      Epoch    GPU_mem       loss  Instances       Size\n"
     ]
    },
    {
     "name": "stderr",
     "output_type": "stream",
     "text": [
      "       4/20     0.124G     0.3326          6         64: 100%|██████████| 274/27\n",
      "               classes   top1_acc   top5_acc: 100%|██████████| 38/38 [00:00<00:0"
     ]
    },
    {
     "name": "stdout",
     "output_type": "stream",
     "text": [
      "                   all       0.83          1\n"
     ]
    },
    {
     "name": "stderr",
     "output_type": "stream",
     "text": [
      "\n"
     ]
    },
    {
     "name": "stdout",
     "output_type": "stream",
     "text": [
      "\n",
      "      Epoch    GPU_mem       loss  Instances       Size\n"
     ]
    },
    {
     "name": "stderr",
     "output_type": "stream",
     "text": [
      "       5/20     0.124G     0.3079          6         64: 100%|██████████| 274/27\n",
      "               classes   top1_acc   top5_acc: 100%|██████████| 38/38 [00:00<00:0"
     ]
    },
    {
     "name": "stdout",
     "output_type": "stream",
     "text": [
      "                   all      0.862          1\n"
     ]
    },
    {
     "name": "stderr",
     "output_type": "stream",
     "text": [
      "\n"
     ]
    },
    {
     "name": "stdout",
     "output_type": "stream",
     "text": [
      "\n",
      "      Epoch    GPU_mem       loss  Instances       Size\n"
     ]
    },
    {
     "name": "stderr",
     "output_type": "stream",
     "text": [
      "       6/20     0.124G     0.2774          6         64: 100%|██████████| 274/27\n",
      "               classes   top1_acc   top5_acc: 100%|██████████| 38/38 [00:00<00:0"
     ]
    },
    {
     "name": "stdout",
     "output_type": "stream",
     "text": [
      "                   all      0.827          1\n"
     ]
    },
    {
     "name": "stderr",
     "output_type": "stream",
     "text": [
      "\n"
     ]
    },
    {
     "name": "stdout",
     "output_type": "stream",
     "text": [
      "\n",
      "      Epoch    GPU_mem       loss  Instances       Size\n"
     ]
    },
    {
     "name": "stderr",
     "output_type": "stream",
     "text": [
      "       7/20     0.124G     0.2726          6         64: 100%|██████████| 274/27\n",
      "               classes   top1_acc   top5_acc: 100%|██████████| 38/38 [00:00<00:0"
     ]
    },
    {
     "name": "stdout",
     "output_type": "stream",
     "text": [
      "                   all      0.858          1\n"
     ]
    },
    {
     "name": "stderr",
     "output_type": "stream",
     "text": [
      "\n"
     ]
    },
    {
     "name": "stdout",
     "output_type": "stream",
     "text": [
      "\n",
      "      Epoch    GPU_mem       loss  Instances       Size\n"
     ]
    },
    {
     "name": "stderr",
     "output_type": "stream",
     "text": [
      "       8/20     0.124G     0.2424          6         64: 100%|██████████| 274/27\n",
      "               classes   top1_acc   top5_acc: 100%|██████████| 38/38 [00:00<00:0"
     ]
    },
    {
     "name": "stdout",
     "output_type": "stream",
     "text": [
      "                   all      0.834          1\n"
     ]
    },
    {
     "name": "stderr",
     "output_type": "stream",
     "text": [
      "\n"
     ]
    },
    {
     "name": "stdout",
     "output_type": "stream",
     "text": [
      "\n",
      "      Epoch    GPU_mem       loss  Instances       Size\n"
     ]
    },
    {
     "name": "stderr",
     "output_type": "stream",
     "text": [
      "       9/20     0.124G      0.243          6         64: 100%|██████████| 274/27\n",
      "               classes   top1_acc   top5_acc: 100%|██████████| 38/38 [00:00<00:0"
     ]
    },
    {
     "name": "stdout",
     "output_type": "stream",
     "text": [
      "                   all      0.813          1\n"
     ]
    },
    {
     "name": "stderr",
     "output_type": "stream",
     "text": [
      "\n"
     ]
    },
    {
     "name": "stdout",
     "output_type": "stream",
     "text": [
      "\n",
      "      Epoch    GPU_mem       loss  Instances       Size\n"
     ]
    },
    {
     "name": "stderr",
     "output_type": "stream",
     "text": [
      "      10/20     0.124G      0.208          6         64: 100%|██████████| 274/27\n",
      "               classes   top1_acc   top5_acc: 100%|██████████| 38/38 [00:00<00:0"
     ]
    },
    {
     "name": "stdout",
     "output_type": "stream",
     "text": [
      "                   all      0.858          1\n"
     ]
    },
    {
     "name": "stderr",
     "output_type": "stream",
     "text": [
      "\n"
     ]
    },
    {
     "name": "stdout",
     "output_type": "stream",
     "text": [
      "\n",
      "      Epoch    GPU_mem       loss  Instances       Size\n"
     ]
    },
    {
     "name": "stderr",
     "output_type": "stream",
     "text": [
      "      11/20     0.124G     0.2082          6         64: 100%|██████████| 274/27\n",
      "               classes   top1_acc   top5_acc: 100%|██████████| 38/38 [00:00<00:0"
     ]
    },
    {
     "name": "stdout",
     "output_type": "stream",
     "text": [
      "                   all      0.849          1\n"
     ]
    },
    {
     "name": "stderr",
     "output_type": "stream",
     "text": [
      "\n"
     ]
    },
    {
     "name": "stdout",
     "output_type": "stream",
     "text": [
      "\n",
      "      Epoch    GPU_mem       loss  Instances       Size\n"
     ]
    },
    {
     "name": "stderr",
     "output_type": "stream",
     "text": [
      "      12/20     0.124G     0.1966          6         64: 100%|██████████| 274/27\n",
      "               classes   top1_acc   top5_acc: 100%|██████████| 38/38 [00:00<00:0"
     ]
    },
    {
     "name": "stdout",
     "output_type": "stream",
     "text": [
      "                   all      0.818          1\n"
     ]
    },
    {
     "name": "stderr",
     "output_type": "stream",
     "text": [
      "\n"
     ]
    },
    {
     "name": "stdout",
     "output_type": "stream",
     "text": [
      "\n",
      "      Epoch    GPU_mem       loss  Instances       Size\n"
     ]
    },
    {
     "name": "stderr",
     "output_type": "stream",
     "text": [
      "      13/20     0.124G     0.1765          6         64: 100%|██████████| 274/27\n",
      "               classes   top1_acc   top5_acc: 100%|██████████| 38/38 [00:00<00:0"
     ]
    },
    {
     "name": "stdout",
     "output_type": "stream",
     "text": [
      "                   all      0.859          1\n"
     ]
    },
    {
     "name": "stderr",
     "output_type": "stream",
     "text": [
      "\n"
     ]
    },
    {
     "name": "stdout",
     "output_type": "stream",
     "text": [
      "\n",
      "      Epoch    GPU_mem       loss  Instances       Size\n"
     ]
    },
    {
     "name": "stderr",
     "output_type": "stream",
     "text": [
      "      14/20     0.124G     0.1709          6         64: 100%|██████████| 274/27\n",
      "               classes   top1_acc   top5_acc: 100%|██████████| 38/38 [00:00<00:0"
     ]
    },
    {
     "name": "stdout",
     "output_type": "stream",
     "text": [
      "                   all      0.865          1\n"
     ]
    },
    {
     "name": "stderr",
     "output_type": "stream",
     "text": [
      "\n"
     ]
    },
    {
     "name": "stdout",
     "output_type": "stream",
     "text": [
      "\n",
      "      Epoch    GPU_mem       loss  Instances       Size\n"
     ]
    },
    {
     "name": "stderr",
     "output_type": "stream",
     "text": [
      "      15/20     0.124G     0.1583          6         64: 100%|██████████| 274/27\n",
      "               classes   top1_acc   top5_acc: 100%|██████████| 38/38 [00:00<00:0"
     ]
    },
    {
     "name": "stdout",
     "output_type": "stream",
     "text": [
      "                   all      0.841          1\n"
     ]
    },
    {
     "name": "stderr",
     "output_type": "stream",
     "text": [
      "\n"
     ]
    },
    {
     "name": "stdout",
     "output_type": "stream",
     "text": [
      "\n",
      "      Epoch    GPU_mem       loss  Instances       Size\n"
     ]
    },
    {
     "name": "stderr",
     "output_type": "stream",
     "text": [
      "      16/20     0.124G     0.1592          6         64: 100%|██████████| 274/27\n",
      "               classes   top1_acc   top5_acc: 100%|██████████| 38/38 [00:00<00:0"
     ]
    },
    {
     "name": "stdout",
     "output_type": "stream",
     "text": [
      "                   all      0.862          1\n"
     ]
    },
    {
     "name": "stderr",
     "output_type": "stream",
     "text": [
      "\n"
     ]
    },
    {
     "name": "stdout",
     "output_type": "stream",
     "text": [
      "\n",
      "      Epoch    GPU_mem       loss  Instances       Size\n"
     ]
    },
    {
     "name": "stderr",
     "output_type": "stream",
     "text": [
      "      17/20     0.124G     0.1577          6         64: 100%|██████████| 274/27\n",
      "               classes   top1_acc   top5_acc: 100%|██████████| 38/38 [00:00<00:0"
     ]
    },
    {
     "name": "stdout",
     "output_type": "stream",
     "text": [
      "                   all      0.843          1\n"
     ]
    },
    {
     "name": "stderr",
     "output_type": "stream",
     "text": [
      "\n"
     ]
    },
    {
     "name": "stdout",
     "output_type": "stream",
     "text": [
      "\n",
      "      Epoch    GPU_mem       loss  Instances       Size\n"
     ]
    },
    {
     "name": "stderr",
     "output_type": "stream",
     "text": [
      "      18/20     0.124G     0.1345          6         64: 100%|██████████| 274/27\n",
      "               classes   top1_acc   top5_acc: 100%|██████████| 38/38 [00:00<00:0"
     ]
    },
    {
     "name": "stdout",
     "output_type": "stream",
     "text": [
      "                   all      0.865          1\n"
     ]
    },
    {
     "name": "stderr",
     "output_type": "stream",
     "text": [
      "\n"
     ]
    },
    {
     "name": "stdout",
     "output_type": "stream",
     "text": [
      "\n",
      "      Epoch    GPU_mem       loss  Instances       Size\n"
     ]
    },
    {
     "name": "stderr",
     "output_type": "stream",
     "text": [
      "      19/20     0.124G     0.1422          6         64: 100%|██████████| 274/27\n",
      "               classes   top1_acc   top5_acc: 100%|██████████| 38/38 [00:00<00:0"
     ]
    },
    {
     "name": "stdout",
     "output_type": "stream",
     "text": [
      "                   all      0.877          1\n"
     ]
    },
    {
     "name": "stderr",
     "output_type": "stream",
     "text": [
      "\n"
     ]
    },
    {
     "name": "stdout",
     "output_type": "stream",
     "text": [
      "\n",
      "      Epoch    GPU_mem       loss  Instances       Size\n"
     ]
    },
    {
     "name": "stderr",
     "output_type": "stream",
     "text": [
      "      20/20     0.124G     0.1168          6         64: 100%|██████████| 274/27\n",
      "               classes   top1_acc   top5_acc: 100%|██████████| 38/38 [00:00<00:0"
     ]
    },
    {
     "name": "stdout",
     "output_type": "stream",
     "text": [
      "                   all      0.861          1\n"
     ]
    },
    {
     "name": "stderr",
     "output_type": "stream",
     "text": [
      "\n"
     ]
    },
    {
     "name": "stdout",
     "output_type": "stream",
     "text": [
      "\n",
      "20 epochs completed in 0.038 hours.\n",
      "Optimizer stripped from runs/classify/train6/weights/last.pt, 3.2MB\n",
      "Optimizer stripped from runs/classify/train6/weights/best.pt, 3.2MB\n",
      "\n",
      "Validating runs/classify/train6/weights/best.pt...\n",
      "Ultralytics 8.3.59 🚀 Python-3.12.3 torch-2.5.1+cu124 CUDA:0 (NVIDIA GeForce RTX 3060 Laptop GPU, 5931MiB)\n",
      "YOLO11n-cls summary (fused): 112 layers, 1,528,586 parameters, 0 gradients, 3.2 GFLOPs\n",
      "\u001b[34m\u001b[1mtrain:\u001b[0m /home/kuber/Desktop/Kuber/AI/Codes/Waste_Classifier/Dataset_2/train... found 4375 images in 2 classes ✅ \n",
      "\u001b[34m\u001b[1mval:\u001b[0m /home/kuber/Desktop/Kuber/AI/Codes/Waste_Classifier/Dataset_2/validation... found 1201 images in 2 classes ✅ \n",
      "\u001b[34m\u001b[1mtest:\u001b[0m None...\n"
     ]
    },
    {
     "name": "stderr",
     "output_type": "stream",
     "text": [
      "               classes   top1_acc   top5_acc: 100%|██████████| 38/38 [00:00<00:0\n"
     ]
    },
    {
     "name": "stdout",
     "output_type": "stream",
     "text": [
      "                   all      0.877          1\n",
      "Speed: 0.0ms preprocess, 0.2ms inference, 0.0ms loss, 0.0ms postprocess per image\n",
      "Results saved to \u001b[1mruns/classify/train6\u001b[0m\n"
     ]
    }
   ],
   "source": [
    "results = model.train(data=\"/home/kuber/Desktop/Kuber/AI/Codes/Waste_Classifier/Dataset_2\", epochs=20, imgsz=64)"
   ]
  },
  {
   "cell_type": "code",
   "execution_count": 6,
   "id": "12c0056f-89cd-4846-827a-fc5ec9662528",
   "metadata": {},
   "outputs": [
    {
     "name": "stderr",
     "output_type": "stream",
     "text": [
      "/tmp/ipykernel_89984/1512269462.py:20: UserWarning: No artists with labels found to put in legend.  Note that artists whose label start with an underscore are ignored when legend() is called with no argument.\n",
      "  plt.legend()\n"
     ]
    },
    {
     "data": {
      "text/plain": [
       "<matplotlib.legend.Legend at 0x714f326499d0>"
      ]
     },
     "execution_count": 6,
     "metadata": {},
     "output_type": "execute_result"
    }
   ],
   "source": [
    "import matplotlib.pyplot as plt\n",
    "import pandas as pd\n",
    "results_path = \"./runs/classify/train6/results.csv\"\n",
    "results = pd.read_csv(results_path)\n",
    "plt.figure()\n",
    "plt.plot(results['epoch'],results['train/loss'],label = 'train loss')\n",
    "plt.plot(results['epoch'],results['val/loss'],label = 'val loss',c='red')\n",
    "plt.grid()\n",
    "plt.title(\"Loss vs ephos\")\n",
    "plt.ylabel(\"loss\")\n",
    "plt.xlabel(\"ephos\")\n",
    "plt.legend()\n",
    "\n",
    "plt.figure()\n",
    "plt.plot(results['epoch'],results['metrics/accuracy_top1']*100)\n",
    "plt.grid()\n",
    "plt.title(\"Validation accuracy vs ephos\")\n",
    "plt.ylabel(\"loss\")\n",
    "plt.xlabel(\"ephos\")\n",
    "plt.legend()\n",
    "\n"
   ]
  },
  {
   "cell_type": "code",
   "execution_count": 16,
   "id": "eedd0f38-46c6-46fd-bf68-ab23ba3c9f4e",
   "metadata": {},
   "outputs": [],
   "source": [
    "import pickle\n",
    "model = YOLO(\"./runs/classify/train5/weights/last.pt\")  # Replace with the correct path to your trained model\n",
    "with open('model_pickle','wb') as f:\n",
    "    pickle.dump(model,f)"
   ]
  },
  {
   "cell_type": "code",
   "execution_count": 15,
   "id": "4ade6ac1-9451-4f17-9ae7-6fdc51b88b89",
   "metadata": {},
   "outputs": [
    {
     "ename": "FileNotFoundError",
     "evalue": "[Errno 2] No such file or directory: 'model_pickle'",
     "output_type": "error",
     "traceback": [
      "\u001b[0;31m---------------------------------------------------------------------------\u001b[0m",
      "\u001b[0;31mFileNotFoundError\u001b[0m                         Traceback (most recent call last)",
      "Cell \u001b[0;32mIn[15], line 1\u001b[0m\n\u001b[0;32m----> 1\u001b[0m \u001b[38;5;28;01mwith\u001b[39;00m \u001b[38;5;28;43mopen\u001b[39;49m\u001b[43m(\u001b[49m\u001b[38;5;124;43m'\u001b[39;49m\u001b[38;5;124;43mmodel_pickle\u001b[39;49m\u001b[38;5;124;43m'\u001b[39;49m\u001b[43m,\u001b[49m\u001b[38;5;124;43m'\u001b[39;49m\u001b[38;5;124;43mrb\u001b[39;49m\u001b[38;5;124;43m'\u001b[39;49m\u001b[43m)\u001b[49m \u001b[38;5;28;01mas\u001b[39;00m f:\n\u001b[1;32m      2\u001b[0m     mp \u001b[38;5;241m=\u001b[39m pickle\u001b[38;5;241m.\u001b[39mload(f)\n",
      "File \u001b[0;32m~/myenv/lib/python3.12/site-packages/IPython/core/interactiveshell.py:324\u001b[0m, in \u001b[0;36m_modified_open\u001b[0;34m(file, *args, **kwargs)\u001b[0m\n\u001b[1;32m    317\u001b[0m \u001b[38;5;28;01mif\u001b[39;00m file \u001b[38;5;129;01min\u001b[39;00m {\u001b[38;5;241m0\u001b[39m, \u001b[38;5;241m1\u001b[39m, \u001b[38;5;241m2\u001b[39m}:\n\u001b[1;32m    318\u001b[0m     \u001b[38;5;28;01mraise\u001b[39;00m \u001b[38;5;167;01mValueError\u001b[39;00m(\n\u001b[1;32m    319\u001b[0m         \u001b[38;5;124mf\u001b[39m\u001b[38;5;124m\"\u001b[39m\u001b[38;5;124mIPython won\u001b[39m\u001b[38;5;124m'\u001b[39m\u001b[38;5;124mt let you open fd=\u001b[39m\u001b[38;5;132;01m{\u001b[39;00mfile\u001b[38;5;132;01m}\u001b[39;00m\u001b[38;5;124m by default \u001b[39m\u001b[38;5;124m\"\u001b[39m\n\u001b[1;32m    320\u001b[0m         \u001b[38;5;124m\"\u001b[39m\u001b[38;5;124mas it is likely to crash IPython. If you know what you are doing, \u001b[39m\u001b[38;5;124m\"\u001b[39m\n\u001b[1;32m    321\u001b[0m         \u001b[38;5;124m\"\u001b[39m\u001b[38;5;124myou can use builtins\u001b[39m\u001b[38;5;124m'\u001b[39m\u001b[38;5;124m open.\u001b[39m\u001b[38;5;124m\"\u001b[39m\n\u001b[1;32m    322\u001b[0m     )\n\u001b[0;32m--> 324\u001b[0m \u001b[38;5;28;01mreturn\u001b[39;00m \u001b[43mio_open\u001b[49m\u001b[43m(\u001b[49m\u001b[43mfile\u001b[49m\u001b[43m,\u001b[49m\u001b[43m \u001b[49m\u001b[38;5;241;43m*\u001b[39;49m\u001b[43margs\u001b[49m\u001b[43m,\u001b[49m\u001b[43m \u001b[49m\u001b[38;5;241;43m*\u001b[39;49m\u001b[38;5;241;43m*\u001b[39;49m\u001b[43mkwargs\u001b[49m\u001b[43m)\u001b[49m\n",
      "\u001b[0;31mFileNotFoundError\u001b[0m: [Errno 2] No such file or directory: 'model_pickle'"
     ]
    }
   ],
   "source": [
    "from sklearn.externals import joblib\n",
    "joblib.dump(model,'model_joblib')"
   ]
  },
  {
   "cell_type": "code",
   "execution_count": 13,
   "id": "84386d0d-adf6-47f3-a751-e2c415e812d7",
   "metadata": {},
   "outputs": [
    {
     "name": "stdout",
     "output_type": "stream",
     "text": [
      "\n",
      "image 1/1 /home/kuber/Desktop/Kuber/AI/Codes/Waste_Classifier/banana.jpg: 64x64 biodegradable 1.00, non_biodegradable 0.00, 3.3ms\n",
      "Speed: 5.3ms preprocess, 3.3ms inference, 0.0ms postprocess per image at shape (1, 3, 64, 64)\n"
     ]
    },
    {
     "data": {
      "text/plain": [
       "[ultralytics.engine.results.Results object with attributes:\n",
       " \n",
       " boxes: None\n",
       " keypoints: None\n",
       " masks: None\n",
       " names: {0: 'biodegradable', 1: 'non_biodegradable'}\n",
       " obb: None\n",
       " orig_img: array([[[255, 255, 255],\n",
       "         [255, 255, 255],\n",
       "         [255, 255, 255],\n",
       "         ...,\n",
       "         [255, 255, 255],\n",
       "         [255, 255, 255],\n",
       "         [255, 255, 255]],\n",
       " \n",
       "        [[255, 255, 255],\n",
       "         [255, 255, 255],\n",
       "         [255, 255, 255],\n",
       "         ...,\n",
       "         [255, 255, 255],\n",
       "         [255, 255, 255],\n",
       "         [255, 255, 255]],\n",
       " \n",
       "        [[255, 255, 255],\n",
       "         [255, 255, 255],\n",
       "         [255, 255, 255],\n",
       "         ...,\n",
       "         [255, 255, 255],\n",
       "         [255, 255, 255],\n",
       "         [255, 255, 255]],\n",
       " \n",
       "        ...,\n",
       " \n",
       "        [[  1,   1,   1],\n",
       "         [  1,   1,   1],\n",
       "         [  1,   1,   1],\n",
       "         ...,\n",
       "         [  1,   1,   1],\n",
       "         [  1,   1,   1],\n",
       "         [  1,   1,   1]],\n",
       " \n",
       "        [[  1,   1,   1],\n",
       "         [  1,   1,   1],\n",
       "         [  1,   1,   1],\n",
       "         ...,\n",
       "         [  1,   1,   1],\n",
       "         [  1,   1,   1],\n",
       "         [  1,   1,   1]],\n",
       " \n",
       "        [[  1,   1,   1],\n",
       "         [  1,   1,   1],\n",
       "         [  1,   1,   1],\n",
       "         ...,\n",
       "         [  1,   1,   1],\n",
       "         [  1,   1,   1],\n",
       "         [  1,   1,   1]]], dtype=uint8)\n",
       " orig_shape: (956, 1300)\n",
       " path: '/home/kuber/Desktop/Kuber/AI/Codes/Waste_Classifier/banana.jpg'\n",
       " probs: ultralytics.engine.results.Probs object\n",
       " save_dir: 'runs/classify/predict'\n",
       " speed: {'preprocess': 5.313873291015625, 'inference': 3.289461135864258, 'postprocess': 0.0400543212890625}]"
      ]
     },
     "execution_count": 13,
     "metadata": {},
     "output_type": "execute_result"
    }
   ],
   "source": [
    "mp.predict('banana.jpg')"
   ]
  },
  {
   "cell_type": "code",
   "execution_count": 7,
   "id": "b04f3377-7447-4c45-94e6-9bc40360187e",
   "metadata": {},
   "outputs": [
    {
     "name": "stdout",
     "output_type": "stream",
     "text": [
      "\n",
      "0: 64x64 non_biodegradable 0.80, biodegradable 0.20, 3.4ms\n",
      "Speed: 1.5ms preprocess, 3.4ms inference, 0.0ms postprocess per image at shape (1, 3, 64, 64)\n",
      "\n",
      "0: 64x64 non_biodegradable 0.79, biodegradable 0.21, 5.0ms\n",
      "Speed: 1.7ms preprocess, 5.0ms inference, 0.0ms postprocess per image at shape (1, 3, 64, 64)\n",
      "\n",
      "0: 64x64 biodegradable 1.00, non_biodegradable 0.00, 5.0ms\n",
      "Speed: 1.4ms preprocess, 5.0ms inference, 0.0ms postprocess per image at shape (1, 3, 64, 64)\n",
      "\n",
      "0: 64x64 non_biodegradable 1.00, biodegradable 0.00, 3.4ms\n",
      "Speed: 1.3ms preprocess, 3.4ms inference, 0.0ms postprocess per image at shape (1, 3, 64, 64)\n",
      "\n",
      "0: 64x64 non_biodegradable 1.00, biodegradable 0.00, 3.2ms\n",
      "Speed: 1.4ms preprocess, 3.2ms inference, 0.0ms postprocess per image at shape (1, 3, 64, 64)\n",
      "\n",
      "0: 64x64 non_biodegradable 0.97, biodegradable 0.03, 3.3ms\n",
      "Speed: 1.4ms preprocess, 3.3ms inference, 0.0ms postprocess per image at shape (1, 3, 64, 64)\n",
      "\n",
      "0: 64x64 non_biodegradable 0.98, biodegradable 0.02, 3.3ms\n",
      "Speed: 1.7ms preprocess, 3.3ms inference, 0.0ms postprocess per image at shape (1, 3, 64, 64)\n",
      "\n",
      "0: 64x64 non_biodegradable 0.94, biodegradable 0.06, 3.3ms\n",
      "Speed: 1.3ms preprocess, 3.3ms inference, 0.0ms postprocess per image at shape (1, 3, 64, 64)\n",
      "\n",
      "0: 64x64 non_biodegradable 0.94, biodegradable 0.06, 3.2ms\n",
      "Speed: 1.2ms preprocess, 3.2ms inference, 0.0ms postprocess per image at shape (1, 3, 64, 64)\n",
      "\n",
      "0: 64x64 non_biodegradable 0.65, biodegradable 0.35, 3.2ms\n",
      "Speed: 1.3ms preprocess, 3.2ms inference, 0.0ms postprocess per image at shape (1, 3, 64, 64)\n",
      "\n",
      "0: 64x64 non_biodegradable 1.00, biodegradable 0.00, 3.2ms\n",
      "Speed: 1.2ms preprocess, 3.2ms inference, 0.0ms postprocess per image at shape (1, 3, 64, 64)\n",
      "\n",
      "0: 64x64 non_biodegradable 1.00, biodegradable 0.00, 3.3ms\n",
      "Speed: 1.5ms preprocess, 3.3ms inference, 0.0ms postprocess per image at shape (1, 3, 64, 64)\n",
      "\n",
      "0: 64x64 non_biodegradable 1.00, biodegradable 0.00, 3.4ms\n",
      "Speed: 1.2ms preprocess, 3.4ms inference, 0.0ms postprocess per image at shape (1, 3, 64, 64)\n",
      "\n",
      "0: 64x64 non_biodegradable 1.00, biodegradable 0.00, 3.5ms\n",
      "Speed: 1.4ms preprocess, 3.5ms inference, 0.0ms postprocess per image at shape (1, 3, 64, 64)\n",
      "\n",
      "0: 64x64 non_biodegradable 0.98, biodegradable 0.02, 3.4ms\n",
      "Speed: 1.4ms preprocess, 3.4ms inference, 0.0ms postprocess per image at shape (1, 3, 64, 64)\n",
      "\n",
      "0: 64x64 non_biodegradable 0.99, biodegradable 0.01, 3.4ms\n",
      "Speed: 1.2ms preprocess, 3.4ms inference, 0.0ms postprocess per image at shape (1, 3, 64, 64)\n",
      "\n",
      "0: 64x64 non_biodegradable 1.00, biodegradable 0.00, 4.8ms\n",
      "Speed: 1.5ms preprocess, 4.8ms inference, 0.0ms postprocess per image at shape (1, 3, 64, 64)\n",
      "\n",
      "0: 64x64 non_biodegradable 0.99, biodegradable 0.01, 3.4ms\n",
      "Speed: 1.3ms preprocess, 3.4ms inference, 0.0ms postprocess per image at shape (1, 3, 64, 64)\n",
      "\n",
      "0: 64x64 non_biodegradable 0.95, biodegradable 0.05, 5.0ms\n",
      "Speed: 1.4ms preprocess, 5.0ms inference, 0.0ms postprocess per image at shape (1, 3, 64, 64)\n",
      "\n",
      "0: 64x64 non_biodegradable 0.89, biodegradable 0.11, 3.3ms\n",
      "Speed: 1.4ms preprocess, 3.3ms inference, 0.0ms postprocess per image at shape (1, 3, 64, 64)\n",
      "\n",
      "0: 64x64 non_biodegradable 0.80, biodegradable 0.20, 3.3ms\n",
      "Speed: 1.2ms preprocess, 3.3ms inference, 0.0ms postprocess per image at shape (1, 3, 64, 64)\n",
      "\n",
      "0: 64x64 non_biodegradable 0.83, biodegradable 0.17, 3.2ms\n",
      "Speed: 1.6ms preprocess, 3.2ms inference, 0.0ms postprocess per image at shape (1, 3, 64, 64)\n",
      "\n",
      "0: 64x64 biodegradable 0.50, non_biodegradable 0.50, 3.4ms\n",
      "Speed: 1.4ms preprocess, 3.4ms inference, 0.0ms postprocess per image at shape (1, 3, 64, 64)\n",
      "\n",
      "0: 64x64 non_biodegradable 0.98, biodegradable 0.02, 3.2ms\n",
      "Speed: 1.4ms preprocess, 3.2ms inference, 0.0ms postprocess per image at shape (1, 3, 64, 64)\n",
      "\n",
      "0: 64x64 non_biodegradable 1.00, biodegradable 0.00, 3.4ms\n",
      "Speed: 1.6ms preprocess, 3.4ms inference, 0.0ms postprocess per image at shape (1, 3, 64, 64)\n",
      "\n",
      "0: 64x64 non_biodegradable 0.63, biodegradable 0.37, 3.3ms\n",
      "Speed: 1.7ms preprocess, 3.3ms inference, 0.0ms postprocess per image at shape (1, 3, 64, 64)\n",
      "\n",
      "0: 64x64 biodegradable 0.98, non_biodegradable 0.02, 3.3ms\n",
      "Speed: 1.6ms preprocess, 3.3ms inference, 0.0ms postprocess per image at shape (1, 3, 64, 64)\n",
      "\n",
      "0: 64x64 non_biodegradable 0.90, biodegradable 0.10, 3.2ms\n",
      "Speed: 1.4ms preprocess, 3.2ms inference, 0.0ms postprocess per image at shape (1, 3, 64, 64)\n",
      "\n",
      "0: 64x64 biodegradable 0.88, non_biodegradable 0.12, 3.2ms\n",
      "Speed: 1.4ms preprocess, 3.2ms inference, 0.0ms postprocess per image at shape (1, 3, 64, 64)\n",
      "\n",
      "0: 64x64 biodegradable 0.95, non_biodegradable 0.05, 3.3ms\n",
      "Speed: 1.4ms preprocess, 3.3ms inference, 0.0ms postprocess per image at shape (1, 3, 64, 64)\n",
      "\n",
      "0: 64x64 biodegradable 0.97, non_biodegradable 0.03, 4.0ms\n",
      "Speed: 1.7ms preprocess, 4.0ms inference, 0.0ms postprocess per image at shape (1, 3, 64, 64)\n",
      "\n",
      "0: 64x64 biodegradable 0.84, non_biodegradable 0.16, 3.3ms\n",
      "Speed: 1.4ms preprocess, 3.3ms inference, 0.0ms postprocess per image at shape (1, 3, 64, 64)\n",
      "\n",
      "0: 64x64 biodegradable 0.56, non_biodegradable 0.44, 4.7ms\n",
      "Speed: 1.5ms preprocess, 4.7ms inference, 0.0ms postprocess per image at shape (1, 3, 64, 64)\n",
      "\n",
      "0: 64x64 non_biodegradable 0.98, biodegradable 0.02, 3.2ms\n",
      "Speed: 1.4ms preprocess, 3.2ms inference, 0.0ms postprocess per image at shape (1, 3, 64, 64)\n",
      "\n",
      "0: 64x64 non_biodegradable 0.69, biodegradable 0.31, 3.2ms\n",
      "Speed: 1.4ms preprocess, 3.2ms inference, 0.0ms postprocess per image at shape (1, 3, 64, 64)\n",
      "\n",
      "0: 64x64 non_biodegradable 0.69, biodegradable 0.31, 3.3ms\n",
      "Speed: 1.4ms preprocess, 3.3ms inference, 0.0ms postprocess per image at shape (1, 3, 64, 64)\n",
      "\n",
      "0: 64x64 biodegradable 0.65, non_biodegradable 0.35, 3.1ms\n",
      "Speed: 1.4ms preprocess, 3.1ms inference, 0.0ms postprocess per image at shape (1, 3, 64, 64)\n",
      "\n",
      "0: 64x64 biodegradable 0.55, non_biodegradable 0.45, 3.2ms\n",
      "Speed: 1.5ms preprocess, 3.2ms inference, 0.1ms postprocess per image at shape (1, 3, 64, 64)\n",
      "\n",
      "0: 64x64 biodegradable 0.75, non_biodegradable 0.25, 4.7ms\n",
      "Speed: 1.5ms preprocess, 4.7ms inference, 0.0ms postprocess per image at shape (1, 3, 64, 64)\n",
      "\n",
      "0: 64x64 non_biodegradable 0.99, biodegradable 0.01, 3.2ms\n",
      "Speed: 1.2ms preprocess, 3.2ms inference, 0.0ms postprocess per image at shape (1, 3, 64, 64)\n",
      "\n",
      "0: 64x64 non_biodegradable 0.59, biodegradable 0.41, 3.3ms\n",
      "Speed: 1.4ms preprocess, 3.3ms inference, 0.0ms postprocess per image at shape (1, 3, 64, 64)\n",
      "\n",
      "0: 64x64 biodegradable 0.95, non_biodegradable 0.05, 3.2ms\n",
      "Speed: 1.4ms preprocess, 3.2ms inference, 0.0ms postprocess per image at shape (1, 3, 64, 64)\n",
      "\n",
      "0: 64x64 non_biodegradable 0.97, biodegradable 0.03, 3.4ms\n",
      "Speed: 1.5ms preprocess, 3.4ms inference, 0.0ms postprocess per image at shape (1, 3, 64, 64)\n",
      "\n",
      "0: 64x64 biodegradable 0.91, non_biodegradable 0.09, 3.5ms\n",
      "Speed: 1.5ms preprocess, 3.5ms inference, 0.0ms postprocess per image at shape (1, 3, 64, 64)\n",
      "\n",
      "0: 64x64 non_biodegradable 0.99, biodegradable 0.01, 3.6ms\n",
      "Speed: 1.4ms preprocess, 3.6ms inference, 0.0ms postprocess per image at shape (1, 3, 64, 64)\n",
      "\n",
      "0: 64x64 non_biodegradable 1.00, biodegradable 0.00, 3.3ms\n",
      "Speed: 1.3ms preprocess, 3.3ms inference, 0.0ms postprocess per image at shape (1, 3, 64, 64)\n",
      "\n",
      "0: 64x64 non_biodegradable 0.99, biodegradable 0.01, 3.1ms\n",
      "Speed: 1.3ms preprocess, 3.1ms inference, 0.0ms postprocess per image at shape (1, 3, 64, 64)\n",
      "\n",
      "0: 64x64 non_biodegradable 0.86, biodegradable 0.14, 3.3ms\n",
      "Speed: 1.2ms preprocess, 3.3ms inference, 0.0ms postprocess per image at shape (1, 3, 64, 64)\n",
      "\n",
      "0: 64x64 non_biodegradable 0.87, biodegradable 0.13, 3.9ms\n",
      "Speed: 1.4ms preprocess, 3.9ms inference, 0.0ms postprocess per image at shape (1, 3, 64, 64)\n",
      "\n",
      "0: 64x64 non_biodegradable 0.93, biodegradable 0.07, 3.4ms\n",
      "Speed: 1.6ms preprocess, 3.4ms inference, 0.0ms postprocess per image at shape (1, 3, 64, 64)\n",
      "\n",
      "0: 64x64 non_biodegradable 0.55, biodegradable 0.45, 3.2ms\n",
      "Speed: 1.5ms preprocess, 3.2ms inference, 0.0ms postprocess per image at shape (1, 3, 64, 64)\n",
      "\n",
      "0: 64x64 non_biodegradable 0.79, biodegradable 0.21, 3.4ms\n",
      "Speed: 1.5ms preprocess, 3.4ms inference, 0.0ms postprocess per image at shape (1, 3, 64, 64)\n",
      "\n",
      "0: 64x64 non_biodegradable 0.99, biodegradable 0.01, 3.3ms\n",
      "Speed: 1.3ms preprocess, 3.3ms inference, 0.0ms postprocess per image at shape (1, 3, 64, 64)\n",
      "\n",
      "0: 64x64 non_biodegradable 0.86, biodegradable 0.14, 3.2ms\n",
      "Speed: 1.4ms preprocess, 3.2ms inference, 0.0ms postprocess per image at shape (1, 3, 64, 64)\n",
      "\n",
      "0: 64x64 biodegradable 0.58, non_biodegradable 0.42, 3.6ms\n",
      "Speed: 1.7ms preprocess, 3.6ms inference, 0.0ms postprocess per image at shape (1, 3, 64, 64)\n",
      "\n",
      "0: 64x64 non_biodegradable 0.58, biodegradable 0.42, 3.3ms\n",
      "Speed: 1.5ms preprocess, 3.3ms inference, 0.0ms postprocess per image at shape (1, 3, 64, 64)\n",
      "\n",
      "0: 64x64 biodegradable 0.69, non_biodegradable 0.31, 3.2ms\n",
      "Speed: 1.4ms preprocess, 3.2ms inference, 0.0ms postprocess per image at shape (1, 3, 64, 64)\n",
      "\n",
      "0: 64x64 biodegradable 0.57, non_biodegradable 0.43, 3.1ms\n",
      "Speed: 1.6ms preprocess, 3.1ms inference, 0.0ms postprocess per image at shape (1, 3, 64, 64)\n",
      "\n",
      "0: 64x64 biodegradable 0.59, non_biodegradable 0.41, 3.1ms\n",
      "Speed: 1.3ms preprocess, 3.1ms inference, 0.0ms postprocess per image at shape (1, 3, 64, 64)\n",
      "\n",
      "0: 64x64 non_biodegradable 0.58, biodegradable 0.42, 3.4ms\n",
      "Speed: 1.6ms preprocess, 3.4ms inference, 0.0ms postprocess per image at shape (1, 3, 64, 64)\n",
      "\n",
      "0: 64x64 non_biodegradable 0.62, biodegradable 0.38, 3.4ms\n",
      "Speed: 1.3ms preprocess, 3.4ms inference, 0.0ms postprocess per image at shape (1, 3, 64, 64)\n",
      "\n",
      "0: 64x64 biodegradable 0.59, non_biodegradable 0.41, 3.3ms\n",
      "Speed: 1.3ms preprocess, 3.3ms inference, 0.0ms postprocess per image at shape (1, 3, 64, 64)\n",
      "\n",
      "0: 64x64 non_biodegradable 0.74, biodegradable 0.26, 4.5ms\n",
      "Speed: 1.7ms preprocess, 4.5ms inference, 0.0ms postprocess per image at shape (1, 3, 64, 64)\n",
      "\n",
      "0: 64x64 non_biodegradable 0.58, biodegradable 0.42, 3.2ms\n",
      "Speed: 1.4ms preprocess, 3.2ms inference, 0.0ms postprocess per image at shape (1, 3, 64, 64)\n",
      "\n",
      "0: 64x64 biodegradable 0.66, non_biodegradable 0.34, 3.3ms\n",
      "Speed: 1.3ms preprocess, 3.3ms inference, 0.0ms postprocess per image at shape (1, 3, 64, 64)\n",
      "\n",
      "0: 64x64 biodegradable 0.84, non_biodegradable 0.16, 3.2ms\n",
      "Speed: 1.3ms preprocess, 3.2ms inference, 0.0ms postprocess per image at shape (1, 3, 64, 64)\n",
      "\n",
      "0: 64x64 biodegradable 0.76, non_biodegradable 0.24, 3.2ms\n",
      "Speed: 1.3ms preprocess, 3.2ms inference, 0.0ms postprocess per image at shape (1, 3, 64, 64)\n",
      "\n",
      "0: 64x64 biodegradable 0.96, non_biodegradable 0.04, 3.2ms\n",
      "Speed: 1.4ms preprocess, 3.2ms inference, 0.0ms postprocess per image at shape (1, 3, 64, 64)\n",
      "\n",
      "0: 64x64 non_biodegradable 0.99, biodegradable 0.01, 3.2ms\n",
      "Speed: 1.6ms preprocess, 3.2ms inference, 0.0ms postprocess per image at shape (1, 3, 64, 64)\n",
      "\n",
      "0: 64x64 biodegradable 0.71, non_biodegradable 0.29, 3.5ms\n",
      "Speed: 1.3ms preprocess, 3.5ms inference, 0.0ms postprocess per image at shape (1, 3, 64, 64)\n",
      "\n",
      "0: 64x64 biodegradable 0.65, non_biodegradable 0.35, 3.3ms\n",
      "Speed: 1.5ms preprocess, 3.3ms inference, 0.0ms postprocess per image at shape (1, 3, 64, 64)\n",
      "\n",
      "0: 64x64 biodegradable 0.64, non_biodegradable 0.36, 3.2ms\n",
      "Speed: 1.4ms preprocess, 3.2ms inference, 0.0ms postprocess per image at shape (1, 3, 64, 64)\n",
      "\n",
      "0: 64x64 biodegradable 0.67, non_biodegradable 0.33, 3.3ms\n",
      "Speed: 1.4ms preprocess, 3.3ms inference, 0.0ms postprocess per image at shape (1, 3, 64, 64)\n",
      "\n",
      "0: 64x64 biodegradable 0.97, non_biodegradable 0.03, 3.2ms\n",
      "Speed: 1.4ms preprocess, 3.2ms inference, 0.0ms postprocess per image at shape (1, 3, 64, 64)\n",
      "\n",
      "0: 64x64 biodegradable 0.95, non_biodegradable 0.05, 3.2ms\n",
      "Speed: 1.4ms preprocess, 3.2ms inference, 0.0ms postprocess per image at shape (1, 3, 64, 64)\n",
      "\n",
      "0: 64x64 biodegradable 1.00, non_biodegradable 0.00, 3.6ms\n",
      "Speed: 2.2ms preprocess, 3.6ms inference, 0.0ms postprocess per image at shape (1, 3, 64, 64)\n",
      "\n",
      "0: 64x64 non_biodegradable 0.61, biodegradable 0.39, 3.3ms\n",
      "Speed: 1.4ms preprocess, 3.3ms inference, 0.0ms postprocess per image at shape (1, 3, 64, 64)\n",
      "\n",
      "0: 64x64 non_biodegradable 0.53, biodegradable 0.47, 3.3ms\n",
      "Speed: 1.3ms preprocess, 3.3ms inference, 0.0ms postprocess per image at shape (1, 3, 64, 64)\n",
      "\n",
      "0: 64x64 biodegradable 0.83, non_biodegradable 0.17, 3.2ms\n",
      "Speed: 1.5ms preprocess, 3.2ms inference, 0.0ms postprocess per image at shape (1, 3, 64, 64)\n",
      "\n",
      "0: 64x64 biodegradable 0.61, non_biodegradable 0.39, 3.2ms\n",
      "Speed: 1.5ms preprocess, 3.2ms inference, 0.0ms postprocess per image at shape (1, 3, 64, 64)\n",
      "\n",
      "0: 64x64 biodegradable 0.51, non_biodegradable 0.49, 3.2ms\n",
      "Speed: 1.3ms preprocess, 3.2ms inference, 0.0ms postprocess per image at shape (1, 3, 64, 64)\n",
      "\n",
      "0: 64x64 non_biodegradable 0.95, biodegradable 0.05, 3.2ms\n",
      "Speed: 1.6ms preprocess, 3.2ms inference, 0.0ms postprocess per image at shape (1, 3, 64, 64)\n",
      "\n",
      "0: 64x64 non_biodegradable 0.95, biodegradable 0.05, 3.1ms\n",
      "Speed: 1.3ms preprocess, 3.1ms inference, 0.0ms postprocess per image at shape (1, 3, 64, 64)\n",
      "\n",
      "0: 64x64 non_biodegradable 0.91, biodegradable 0.09, 3.1ms\n",
      "Speed: 1.3ms preprocess, 3.1ms inference, 0.0ms postprocess per image at shape (1, 3, 64, 64)\n",
      "\n",
      "0: 64x64 non_biodegradable 0.62, biodegradable 0.38, 3.3ms\n",
      "Speed: 1.4ms preprocess, 3.3ms inference, 0.0ms postprocess per image at shape (1, 3, 64, 64)\n",
      "\n",
      "0: 64x64 non_biodegradable 0.88, biodegradable 0.12, 3.2ms\n",
      "Speed: 1.3ms preprocess, 3.2ms inference, 0.0ms postprocess per image at shape (1, 3, 64, 64)\n",
      "\n",
      "0: 64x64 non_biodegradable 0.94, biodegradable 0.06, 3.2ms\n",
      "Speed: 1.3ms preprocess, 3.2ms inference, 0.0ms postprocess per image at shape (1, 3, 64, 64)\n",
      "\n",
      "0: 64x64 non_biodegradable 0.53, biodegradable 0.47, 3.3ms\n",
      "Speed: 1.3ms preprocess, 3.3ms inference, 0.0ms postprocess per image at shape (1, 3, 64, 64)\n",
      "\n",
      "0: 64x64 biodegradable 0.53, non_biodegradable 0.47, 3.1ms\n",
      "Speed: 1.4ms preprocess, 3.1ms inference, 0.0ms postprocess per image at shape (1, 3, 64, 64)\n",
      "\n",
      "0: 64x64 non_biodegradable 0.83, biodegradable 0.17, 3.2ms\n",
      "Speed: 1.4ms preprocess, 3.2ms inference, 0.0ms postprocess per image at shape (1, 3, 64, 64)\n",
      "\n",
      "0: 64x64 non_biodegradable 0.55, biodegradable 0.45, 3.3ms\n",
      "Speed: 1.3ms preprocess, 3.3ms inference, 0.0ms postprocess per image at shape (1, 3, 64, 64)\n",
      "\n",
      "0: 64x64 non_biodegradable 0.56, biodegradable 0.44, 3.2ms\n",
      "Speed: 1.3ms preprocess, 3.2ms inference, 0.0ms postprocess per image at shape (1, 3, 64, 64)\n",
      "\n",
      "0: 64x64 non_biodegradable 0.73, biodegradable 0.27, 3.1ms\n",
      "Speed: 1.4ms preprocess, 3.1ms inference, 0.0ms postprocess per image at shape (1, 3, 64, 64)\n",
      "\n",
      "0: 64x64 non_biodegradable 0.87, biodegradable 0.13, 3.1ms\n",
      "Speed: 1.6ms preprocess, 3.1ms inference, 0.0ms postprocess per image at shape (1, 3, 64, 64)\n",
      "\n",
      "0: 64x64 biodegradable 0.92, non_biodegradable 0.08, 3.3ms\n",
      "Speed: 1.4ms preprocess, 3.3ms inference, 0.0ms postprocess per image at shape (1, 3, 64, 64)\n",
      "\n",
      "0: 64x64 biodegradable 0.68, non_biodegradable 0.32, 3.2ms\n",
      "Speed: 1.7ms preprocess, 3.2ms inference, 0.0ms postprocess per image at shape (1, 3, 64, 64)\n",
      "\n",
      "0: 64x64 biodegradable 0.74, non_biodegradable 0.26, 3.2ms\n",
      "Speed: 1.3ms preprocess, 3.2ms inference, 0.0ms postprocess per image at shape (1, 3, 64, 64)\n",
      "\n",
      "0: 64x64 biodegradable 0.74, non_biodegradable 0.26, 3.1ms\n",
      "Speed: 1.6ms preprocess, 3.1ms inference, 0.0ms postprocess per image at shape (1, 3, 64, 64)\n",
      "\n",
      "0: 64x64 biodegradable 0.75, non_biodegradable 0.25, 3.2ms\n",
      "Speed: 1.3ms preprocess, 3.2ms inference, 0.0ms postprocess per image at shape (1, 3, 64, 64)\n",
      "\n",
      "0: 64x64 biodegradable 0.82, non_biodegradable 0.18, 3.1ms\n",
      "Speed: 1.3ms preprocess, 3.1ms inference, 0.0ms postprocess per image at shape (1, 3, 64, 64)\n",
      "\n",
      "0: 64x64 biodegradable 0.60, non_biodegradable 0.40, 3.2ms\n",
      "Speed: 1.6ms preprocess, 3.2ms inference, 0.0ms postprocess per image at shape (1, 3, 64, 64)\n",
      "\n",
      "0: 64x64 non_biodegradable 0.60, biodegradable 0.40, 3.2ms\n",
      "Speed: 1.3ms preprocess, 3.2ms inference, 0.0ms postprocess per image at shape (1, 3, 64, 64)\n",
      "\n",
      "0: 64x64 non_biodegradable 0.94, biodegradable 0.06, 3.3ms\n",
      "Speed: 1.4ms preprocess, 3.3ms inference, 0.0ms postprocess per image at shape (1, 3, 64, 64)\n",
      "\n",
      "0: 64x64 non_biodegradable 0.99, biodegradable 0.01, 3.2ms\n",
      "Speed: 1.3ms preprocess, 3.2ms inference, 0.0ms postprocess per image at shape (1, 3, 64, 64)\n",
      "\n",
      "0: 64x64 biodegradable 0.99, non_biodegradable 0.01, 3.2ms\n",
      "Speed: 1.4ms preprocess, 3.2ms inference, 0.0ms postprocess per image at shape (1, 3, 64, 64)\n",
      "Failed to capture frame\n"
     ]
    },
    {
     "name": "stderr",
     "output_type": "stream",
     "text": [
      "[ WARN:0@2002.078] global cap_v4l.cpp:889 requestBuffers VIDEOIO(V4L2:/dev/video2): failed VIDIOC_REQBUFS: errno=19 (No such device)\n"
     ]
    }
   ],
   "source": [
    "import cv2\n",
    "import random\n",
    "import numpy as np\n",
    "import time\n",
    "from ultralytics import YOLO\n",
    "\n",
    "# Load the trained model\n",
    "model = YOLO(\"./runs/classify/train5/weights/last.pt\")  # Replace with the correct path to your trained model\n",
    "\n",
    "# Initialize video capture\n",
    "cap = cv2.VideoCapture(2)  # Use 0 for laptop camera\n",
    "\n",
    "# Check if the video capture is opened\n",
    "if not cap.isOpened():\n",
    "    print(\"Error: Cannot access the camera\")\n",
    "    exit()\n",
    "\n",
    "# Read the class names from category.txt\n",
    "with open(\"utils/category.txt\", \"r\") as my_file:\n",
    "    class_list = my_file.read().split(\"\\n\")\n",
    "\n",
    "# Frame dimensions and rectangle size\n",
    "frame_wid = 740\n",
    "frame_hyt = 580\n",
    "rect_wid, rect_hyt = 300, 300  # Width and height of the rectangle\n",
    "\n",
    "last_model_time = time.time()\n",
    "model_delay = 2  # Process the model every 5 seconds\n",
    "last_label = \"\"  # Store the last label to display continuously\n",
    "\n",
    "while True:\n",
    "    ret, frame = cap.read()\n",
    "    if not ret:\n",
    "        print(\"Failed to capture frame\")\n",
    "        break\n",
    "\n",
    "    # Get frame dimensions\n",
    "    h, w, _ = frame.shape\n",
    "\n",
    "    # Define rectangle coordinates (centered)\n",
    "    cx, cy = w // 2, h // 2  # Center of the frame\n",
    "    x1, y1 = cx - rect_wid // 2, cy - rect_hyt // 2\n",
    "    x2, y2 = cx + rect_wid // 2, cy + rect_hyt // 2\n",
    "\n",
    "    # Ensure rectangle is within bounds\n",
    "    x1, y1, x2, y2 = max(0, x1), max(0, y1), min(w, x2), min(h, y2)\n",
    "\n",
    "    # Draw rectangle on the frame\n",
    "    cv2.rectangle(frame, (x1, y1), (x2, y2), (0, 255, 0), 2)\n",
    "\n",
    "    # Crop the rectangle area\n",
    "    cropped_frame = frame[y1:y2, x1:x2]\n",
    "\n",
    "    current_time = time.time()\n",
    "    if current_time - last_model_time >= model_delay:\n",
    "        last_model_time = current_time\n",
    "        # Convert cropped frame to RGB for the model\n",
    "        input_frame = cv2.cvtColor(cropped_frame, cv2.COLOR_BGR2RGB)\n",
    "\n",
    "        # Perform inference\n",
    "        results = model.predict(source=input_frame, save=False, conf=0.5)\n",
    "\n",
    "        # Process results\n",
    "        if results:\n",
    "            for result in results:\n",
    "                cls_probs = result.probs\n",
    "                class_id = cls_probs.top1  # Get top-1 class\n",
    "                confidence = cls_probs.top1conf.item()  # Confidence of the top-1 class\n",
    "                last_label = f\"{class_list[class_id]}: {confidence:.2f}\"\n",
    "\n",
    "    # Draw label on the full frame\n",
    "    if last_label:\n",
    "        cv2.putText(frame, last_label, (x1, y1 - 10), cv2.FONT_HERSHEY_SIMPLEX, 0.7, (0, 255, 0), 2)\n",
    "\n",
    "    # Display the frame with the rectangle and label\n",
    "    cv2.imshow('Camera Feed', frame)\n",
    "\n",
    "    # Break the loop on 'q' key press\n",
    "    if cv2.waitKey(1) & 0xFF == ord('q'):\n",
    "        break\n",
    "\n",
    "# Release resources\n",
    "cap.release()\n",
    "cv2.destroyAllWindows()\n"
   ]
  },
  {
   "cell_type": "code",
   "execution_count": 6,
   "id": "969d4e58-9ab2-45a5-a874-d736afc43bdf",
   "metadata": {},
   "outputs": [
    {
     "name": "stdout",
     "output_type": "stream",
     "text": [
      "Ultralytics 8.3.59 🚀 Python-3.12.3 torch-2.5.1+cu124 CPU (AMD Ryzen 7 5800H with Radeon Graphics)\n",
      "YOLO11n-cls summary (fused): 112 layers, 1,528,586 parameters, 0 gradients, 3.2 GFLOPs\n",
      "\n",
      "\u001b[34m\u001b[1mPyTorch:\u001b[0m starting from 'runs/classify/train2/weights/last.pt' with input shape (1, 3, 64, 64) BCHW and output shape(s) (1, 2) (3.0 MB)\n",
      "\u001b[31m\u001b[1mrequirements:\u001b[0m Ultralytics requirements ['onnx>=1.12.0', 'onnxslim', 'onnxruntime-gpu'] not found, attempting AutoUpdate...\n",
      "Collecting onnx>=1.12.0\n",
      "  Downloading onnx-1.17.0-cp312-cp312-manylinux_2_17_x86_64.manylinux2014_x86_64.whl.metadata (16 kB)\n",
      "Collecting onnxslim\n",
      "  Downloading onnxslim-0.1.47-py3-none-any.whl.metadata (4.4 kB)\n",
      "Collecting onnxruntime-gpu\n",
      "  Downloading onnxruntime_gpu-1.20.1-cp312-cp312-manylinux_2_27_x86_64.manylinux_2_28_x86_64.whl.metadata (4.5 kB)\n",
      "Requirement already satisfied: numpy>=1.20 in /home/kuber/myenv/lib/python3.12/site-packages (from onnx>=1.12.0) (2.0.2)\n",
      "Requirement already satisfied: protobuf>=3.20.2 in /home/kuber/myenv/lib/python3.12/site-packages (from onnx>=1.12.0) (5.29.2)\n",
      "Requirement already satisfied: sympy in /home/kuber/myenv/lib/python3.12/site-packages (from onnxslim) (1.13.1)\n",
      "Requirement already satisfied: packaging in /home/kuber/myenv/lib/python3.12/site-packages (from onnxslim) (24.1)\n",
      "Collecting coloredlogs (from onnxruntime-gpu)\n",
      "  Downloading coloredlogs-15.0.1-py2.py3-none-any.whl.metadata (12 kB)\n",
      "Requirement already satisfied: flatbuffers in /home/kuber/myenv/lib/python3.12/site-packages (from onnxruntime-gpu) (24.12.23)\n",
      "Collecting humanfriendly>=9.1 (from coloredlogs->onnxruntime-gpu)\n",
      "  Downloading humanfriendly-10.0-py2.py3-none-any.whl.metadata (9.2 kB)\n",
      "Requirement already satisfied: mpmath<1.4,>=1.1.0 in /home/kuber/myenv/lib/python3.12/site-packages (from sympy->onnxslim) (1.3.0)\n",
      "Downloading onnx-1.17.0-cp312-cp312-manylinux_2_17_x86_64.manylinux2014_x86_64.whl (16.0 MB)\n",
      "\u001b[2K   \u001b[38;2;114;156;31m━━━━━━━━━━━━━━━━━━━━━━━━━━━━━━━━━━━━━━━━\u001b[0m \u001b[32m16.0/16.0 MB\u001b[0m \u001b[31m12.2 MB/s\u001b[0m eta \u001b[36m0:00:00\u001b[0m[36m0:00:01\u001b[0m[36m0:00:01\u001b[0m:01\u001b[0m\n",
      "\u001b[?25hDownloading onnxslim-0.1.47-py3-none-any.whl (142 kB)\n",
      "\u001b[2K   \u001b[38;2;114;156;31m━━━━━━━━━━━━━━━━━━━━━━━━━━━━━━━━━━━━━━━━\u001b[0m \u001b[32m142.8/142.8 kB\u001b[0m \u001b[31m14.4 MB/s\u001b[0m eta \u001b[36m0:00:00\u001b[0m\n",
      "\u001b[?25hDownloading onnxruntime_gpu-1.20.1-cp312-cp312-manylinux_2_27_x86_64.manylinux_2_28_x86_64.whl (291.5 MB)\n",
      "\u001b[2K   \u001b[38;2;114;156;31m━━━━━━━━━━━━━━━━━━━━━━━━━━━━━━━━━━━━━━━━\u001b[0m \u001b[32m291.5/291.5 MB\u001b[0m \u001b[31m11.5 MB/s\u001b[0m eta \u001b[36m0:00:00\u001b[0mm eta \u001b[36m0:00:01\u001b[0m[36m0:00:01\u001b[0m\n",
      "\u001b[?25hDownloading coloredlogs-15.0.1-py2.py3-none-any.whl (46 kB)\n",
      "\u001b[2K   \u001b[38;2;114;156;31m━━━━━━━━━━━━━━━━━━━━━━━━━━━━━━━━━━━━━━━━\u001b[0m \u001b[32m46.0/46.0 kB\u001b[0m \u001b[31m141.7 MB/s\u001b[0m eta \u001b[36m0:00:00\u001b[0m\n",
      "\u001b[?25hDownloading humanfriendly-10.0-py2.py3-none-any.whl (86 kB)\n",
      "\u001b[2K   \u001b[38;2;114;156;31m━━━━━━━━━━━━━━━━━━━━━━━━━━━━━━━━━━━━━━━━\u001b[0m \u001b[32m86.8/86.8 kB\u001b[0m \u001b[31m19.6 MB/s\u001b[0m eta \u001b[36m0:00:00\u001b[0m\n",
      "\u001b[?25hInstalling collected packages: onnx, humanfriendly, onnxslim, coloredlogs, onnxruntime-gpu\n",
      "Successfully installed coloredlogs-15.0.1 humanfriendly-10.0 onnx-1.17.0 onnxruntime-gpu-1.20.1 onnxslim-0.1.47\n",
      "\n",
      "\u001b[31m\u001b[1mrequirements:\u001b[0m AutoUpdate success ✅ 40.3s, installed 3 packages: ['onnx>=1.12.0', 'onnxslim', 'onnxruntime-gpu']\n",
      "\u001b[31m\u001b[1mrequirements:\u001b[0m ⚠️ \u001b[1mRestart runtime or rerun command for updates to take effect\u001b[0m\n",
      "\n",
      "\n",
      "\u001b[34m\u001b[1mONNX:\u001b[0m starting export with onnx 1.17.0 opset 19...\n",
      "\u001b[34m\u001b[1mONNX:\u001b[0m slimming with onnxslim 0.1.47...\n",
      "\u001b[34m\u001b[1mONNX:\u001b[0m export success ✅ 40.7s, saved as 'runs/classify/train2/weights/last.onnx' (5.9 MB)\n",
      "\n",
      "Export complete (40.9s)\n",
      "Results saved to \u001b[1m/home/kuber/Desktop/Kuber/AI/Codes/Waster Management/runs/classify/train2/weights\u001b[0m\n",
      "Predict:         yolo predict task=classify model=runs/classify/train2/weights/last.onnx imgsz=64  \n",
      "Validate:        yolo val task=classify model=runs/classify/train2/weights/last.onnx imgsz=64 data=/home/kuber/Desktop/Kuber/AI/Codes/Waster Management/Dataset  \n",
      "Visualize:       https://netron.app\n"
     ]
    },
    {
     "data": {
      "text/plain": [
       "'runs/classify/train2/weights/last.onnx'"
      ]
     },
     "execution_count": 6,
     "metadata": {},
     "output_type": "execute_result"
    }
   ],
   "source": [
    "\n",
    "model = YOLO(\"./runs/classify/train2/weights/last.pt\")  \n",
    "# Export the model to ONNX format and save in the 'Model' folder\n",
    "model.export(format=\"onnx\")"
   ]
  },
  {
   "cell_type": "code",
   "execution_count": 7,
   "id": "e15f280e-0aa5-4f81-b8c9-88972f841424",
   "metadata": {},
   "outputs": [
    {
     "name": "stdout",
     "output_type": "stream",
     "text": [
      "Collecting onnx-tf\n",
      "  Downloading onnx_tf-1.10.0-py3-none-any.whl.metadata (510 bytes)\n",
      "Requirement already satisfied: onnx>=1.10.2 in /home/kuber/myenv/lib/python3.12/site-packages (from onnx-tf) (1.17.0)\n",
      "Requirement already satisfied: PyYAML in /home/kuber/myenv/lib/python3.12/site-packages (from onnx-tf) (6.0.2)\n",
      "INFO: pip is looking at multiple versions of onnx-tf to determine which version is compatible with other requirements. This could take a while.\n",
      "  Downloading onnx_tf-1.9.0-py3-none-any.whl.metadata (508 bytes)\n",
      "  Downloading onnx_tf-1.8.0-py3-none-any.whl.metadata (508 bytes)\n",
      "  Downloading onnx_tf-1.7.0-py3-none-any.whl.metadata (508 bytes)\n",
      "  Downloading onnx_tf-1.6.0-py3-none-any.whl.metadata (475 bytes)\n",
      "Requirement already satisfied: numpy>=1.20 in /home/kuber/myenv/lib/python3.12/site-packages (from onnx>=1.10.2->onnx-tf) (2.0.2)\n",
      "Requirement already satisfied: protobuf>=3.20.2 in /home/kuber/myenv/lib/python3.12/site-packages (from onnx>=1.10.2->onnx-tf) (5.29.2)\n",
      "Downloading onnx_tf-1.6.0-py3-none-any.whl (186 kB)\n",
      "\u001b[2K   \u001b[38;2;114;156;31m━━━━━━━━━━━━━━━━━━━━━━━━━━━━━━━━━━━━━━━━\u001b[0m \u001b[32m186.6/186.6 kB\u001b[0m \u001b[31m1.7 MB/s\u001b[0m eta \u001b[36m0:00:00\u001b[0mm eta \u001b[36m0:00:01\u001b[0m:01\u001b[0m:01\u001b[0m\n",
      "Installing collected packages: onnx-tf\n",
      "Successfully installed onnx-tf-1.6.0\n"
     ]
    }
   ],
   "source": [
    "!pip install onnx-tf\n"
   ]
  }
 ],
 "metadata": {
  "kernelspec": {
   "display_name": "Python 3 (ipykernel)",
   "language": "python",
   "name": "python3"
  },
  "language_info": {
   "codemirror_mode": {
    "name": "ipython",
    "version": 3
   },
   "file_extension": ".py",
   "mimetype": "text/x-python",
   "name": "python",
   "nbconvert_exporter": "python",
   "pygments_lexer": "ipython3",
   "version": "3.12.3"
  }
 },
 "nbformat": 4,
 "nbformat_minor": 5
}
